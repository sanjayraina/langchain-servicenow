{
 "cells": [
  {
   "cell_type": "code",
   "execution_count": 1,
   "metadata": {},
   "outputs": [
    {
     "data": {
      "text/plain": [
       "True"
      ]
     },
     "execution_count": 1,
     "metadata": {},
     "output_type": "execute_result"
    }
   ],
   "source": [
    "import os\n",
    "from dotenv import load_dotenv\n",
    "from langchain_openai import ChatOpenAI\n",
    "from langchain import hub\n",
    "from langchain.agents import AgentExecutor, create_openai_functions_agent\n",
    "from langchain.tools import Tool\n",
    "load_dotenv()"
   ]
  },
  {
   "cell_type": "code",
   "execution_count": 2,
   "metadata": {},
   "outputs": [],
   "source": [
    "SERVICENOW_GET_RECORDS_PROMPT = \"\"\"\n",
    "    This tool is a wrapper around the ServiceNow table API, useful when you need to search for records in ServiceNow.\n",
    "    Records can be of type Incident, Change Requests or Service Requests.\n",
    "    The input to the tool is a query string that filters results based on attribute value.\n",
    "    For example, to find all the Incident records with Priority value of 1, you would \n",
    "    pass the following string: priority=1\n",
    "    \"\"\"\n",
    "SERVICENOW_INC_CREATE_PROMPT = \"\"\"\n",
    "    This tool is a wrapper around the ServiceNow incident table API, useful when you need to create a ServiceNow incident. \n",
    "    The input to this tool is a dictionary specifying the fields of the ServiceNow incident, and will be passed to the table API call.\n",
    "    For example, to create an incident called \"test issue\" with description \"test description\", you would pass in the following dictionary: \n",
    "    {{\"short_description\": \"test issue\", \"description\": \"test description\"}}\n",
    "    \"\"\""
   ]
  },
  {
   "cell_type": "code",
   "execution_count": 3,
   "metadata": {},
   "outputs": [],
   "source": [
    "os.environ['SERVICENOW_FILTER'] = \"active=true\"\n",
    "os.environ['SERVICENOW_FIELDS'] = \"number,short_description,description\""
   ]
  },
  {
   "cell_type": "code",
   "execution_count": 4,
   "metadata": {},
   "outputs": [],
   "source": [
    "from snow_api_wrapper import ServiceNowAPIWrapper\n",
    "from langchain.utilities.duckduckgo_search import DuckDuckGoSearchAPIWrapper\n",
    "\n",
    "servicenow = ServiceNowAPIWrapper()\n",
    "duckduck_search = DuckDuckGoSearchAPIWrapper()"
   ]
  },
  {
   "cell_type": "code",
   "execution_count": 5,
   "metadata": {},
   "outputs": [],
   "source": [
    "tools = [\n",
    "    Tool.from_function(\n",
    "        name = \"ServiceNow_Get\",\n",
    "        func=servicenow.get_incidents,\n",
    "        description=SERVICENOW_GET_RECORDS_PROMPT\n",
    "    ),\n",
    "    Tool.from_function(\n",
    "        name = \"ServiceNow_Create\",\n",
    "        func=servicenow.create_incident,\n",
    "        description=SERVICENOW_INC_CREATE_PROMPT\n",
    "    ),\n",
    "    Tool(\n",
    "        name = \"Search_DuckDuckGo\",\n",
    "        func=duckduck_search.run,\n",
    "        description=\"useful for when you need to answer questions about current events. You should ask targeted questions\"\n",
    "    )\n",
    "]"
   ]
  },
  {
   "cell_type": "code",
   "execution_count": 6,
   "metadata": {},
   "outputs": [
    {
     "name": "stderr",
     "output_type": "stream",
     "text": [
      "/opt/anaconda3/lib/python3.12/site-packages/langsmith/client.py:354: LangSmithMissingAPIKeyWarning: API key must be provided when using hosted LangSmith API\n",
      "  warnings.warn(\n"
     ]
    }
   ],
   "source": [
    "llm = ChatOpenAI(model=\"gpt-3.5-turbo\", temperature=0)\n",
    "\n",
    "prompt = hub.pull(\"hwchase17/openai-functions-agent\")\n",
    "\n",
    "agent = create_openai_functions_agent(llm, tools, prompt)\n",
    "agent_executor = AgentExecutor(agent=agent, tools=tools, verbose=True)"
   ]
  },
  {
   "cell_type": "code",
   "execution_count": null,
   "metadata": {},
   "outputs": [],
   "source": [
    "response = agent_executor.invoke({\"input\":\"You are a technical support analyst. Retrieve a list of ServiceNow incidents of priority 1 and for each incident, use its description to find a solution on the web.\"})"
   ]
  },
  {
   "cell_type": "code",
   "execution_count": null,
   "metadata": {},
   "outputs": [],
   "source": [
    "print (response)"
   ]
  },
  {
   "cell_type": "code",
   "execution_count": null,
   "metadata": {},
   "outputs": [],
   "source": [
    "response = agent_executor.invoke({\"input\":\"Show me the solutions for other incidents\"})"
   ]
  },
  {
   "cell_type": "code",
   "execution_count": null,
   "metadata": {},
   "outputs": [],
   "source": [
    "response = agent_executor.invoke({\"input\":\"Search the web for solutions to the above incidents\"})\n"
   ]
  },
  {
   "cell_type": "code",
   "execution_count": 7,
   "metadata": {},
   "outputs": [
    {
     "name": "stdout",
     "output_type": "stream",
     "text": [
      "\n",
      "\n",
      "\u001b[1m> Entering new AgentExecutor chain...\u001b[0m\n",
      "\u001b[32;1m\u001b[1;3m\n",
      "Invoking: `ServiceNow_Create` with `{\"short_description\": \"Faulty laptop issue\", \"description\": \"Customer reported an issue with a faulty laptop. Please investigate and resolve.\", \"caller_id\": \"Customer\"}`\n",
      "\n",
      "\n",
      "\u001b[0m\u001b[33;1m\u001b[1;3m<Response [201]>\u001b[0m\u001b[32;1m\u001b[1;3mI have successfully created a ServiceNow incident for the faulty laptop issue reported by the customer.\u001b[0m\n",
      "\n",
      "\u001b[1m> Finished chain.\u001b[0m\n"
     ]
    }
   ],
   "source": [
    "response = agent_executor.invoke({\"input\":\"You are a technical support analyst and a customer has just called about a faulty laptop. Create a ServiceNow incident for this issue.\"})"
   ]
  },
  {
   "cell_type": "code",
   "execution_count": null,
   "metadata": {},
   "outputs": [],
   "source": []
  }
 ],
 "metadata": {
  "kernelspec": {
   "display_name": "base",
   "language": "python",
   "name": "python3"
  },
  "language_info": {
   "codemirror_mode": {
    "name": "ipython",
    "version": 3
   },
   "file_extension": ".py",
   "mimetype": "text/x-python",
   "name": "python",
   "nbconvert_exporter": "python",
   "pygments_lexer": "ipython3",
   "version": "3.12.7"
  }
 },
 "nbformat": 4,
 "nbformat_minor": 2
}
