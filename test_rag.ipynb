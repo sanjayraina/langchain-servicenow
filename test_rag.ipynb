{
 "cells": [
  {
   "cell_type": "code",
   "execution_count": 1,
   "metadata": {},
   "outputs": [
    {
     "data": {
      "text/plain": [
       "True"
      ]
     },
     "execution_count": 1,
     "metadata": {},
     "output_type": "execute_result"
    }
   ],
   "source": [
    "from dotenv import load_dotenv\n",
    "\n",
    "load_dotenv()  # take environment variables from .env"
   ]
  },
  {
   "cell_type": "code",
   "execution_count": 2,
   "metadata": {},
   "outputs": [],
   "source": [
    "from langchain_openai import OpenAIEmbeddings\n",
    "from servicenow import ServiceNowLoader\n",
    "from langchain.vectorstores import FAISS\n",
    "\n",
    "table = \"kb_knowledge\"\n",
    "query = \"short_descriptionLIKEsmartcool\"\n",
    "fields = \"short_description,text\"\n",
    "loader = ServiceNowLoader(table, query, fields)"
   ]
  },
  {
   "cell_type": "code",
   "execution_count": 3,
   "metadata": {},
   "outputs": [
    {
     "data": {
      "text/plain": [
       "<generator object ServiceNowLoader.lazy_load at 0x108f2eac0>"
      ]
     },
     "execution_count": 3,
     "metadata": {},
     "output_type": "execute_result"
    }
   ],
   "source": [
    "docs = loader.lazy_load()\n",
    "docs"
   ]
  },
  {
   "cell_type": "code",
   "execution_count": 4,
   "metadata": {},
   "outputs": [
    {
     "name": "stdout",
     "output_type": "stream",
     "text": [
      "<class 'langchain_core.documents.base.Document'>\n",
      "\n",
      "short_description:Changing the freezer temparature on the SmartCool refridgerator\n",
      "text:\n",
      "\n",
      "\n",
      "From the Home screen, swipe left.Touch Fridge Manager.Touch the freezer temperature.There are 5 preset temperatures. Select a desired temperature.To change the temperature manually, use the arrow buttons.Touch OK to finish.\n",
      "\n",
      "\n",
      "\n",
      " \n",
      " \n",
      "\n",
      "-----\n",
      "<class 'langchain_core.documents.base.Document'>\n",
      "\n",
      "short_description:Viewing inside the SmartCool refrigerator using the\t\t\tSmartView camera from a mobile device\n",
      "text:SmartCool refrigerators can be paired with the companion mobile app to access a number of useful features like remotely controlling your fridge or freezer temperature, or to view inside the fridge. \n",
      " \n",
      "1\n",
      "Open SmartCool app on your mobile device.\n",
      "note:SmartCool app can be downloaded from Google Play Store.\n",
      "2\n",
      "Make sure your SmartCool fridge is connected to the SmartCool App.Swipe left to access the Menu page.\n",
      "3\n",
      "Touch View Inside.\n",
      "4\n",
      "SmartCool App will display the inside view of your refrigerator.\n",
      "\n",
      "\n",
      " \n",
      "\n",
      "\n",
      "-----\n",
      "<class 'langchain_core.documents.base.Document'>\n",
      "\n",
      "short_description:Changing the fridge temparature on the SmartCool\t\t\trefridgerator\n",
      "text:\n",
      "\n",
      "\n",
      "From the Home screen, swipe left.Touch Fridge Manager.Touch Fridge Temperature.There are 5 preset temperatures. Select a desired temperature.To change the temperature manually, use the arrow buttons.Touch OK to finish.\n",
      "\n",
      "\n",
      "\n",
      " \n",
      " \n",
      "\n",
      "-----\n",
      "<class 'langchain_core.documents.base.Document'>\n",
      "\n",
      "short_description:Connecting the SmartCool Refrigerator to Wi-Fi\t\t\n",
      "text:\n",
      "\n",
      "\n",
      "From the Home screen, swipe left.Touch Settings.Touch Wi-Fi.Slide Wi-Fi to On. SmartCool will begin scanning for wireless networks.Touch your desired wireless network.Enter the password and touch CONNECT.\n",
      "\n",
      "\n",
      "\n",
      " \n",
      " \n",
      "\n",
      "-----\n",
      "<class 'langchain_core.documents.base.Document'>\n",
      "\n",
      "short_description:Using the SmartView camera view to view inside\t\t\tSmartCool refridgerator\n",
      "text:\n",
      "\n",
      "\n",
      "Touch View Inside.You can label each food with expiration dates. Drag a label from the top and place it on an item.To label the food name and a reminder date, touch &#43;.Enter names using the keyboard.Set a reminder date using the dropdown menu.Touch SAVE.To access the Shopping List, touch the MENU button.Touch Go to Shopping List.\n",
      "\n",
      "\n",
      "\n",
      " \n",
      " \n",
      "\n",
      "-----\n"
     ]
    }
   ],
   "source": [
    "docarr = []\n",
    "for doc in docs:\n",
    "    print(type(doc))\n",
    "    print(doc.page_content)\n",
    "    print(\"-----\")\n",
    "    docarr.append(doc)"
   ]
  },
  {
   "cell_type": "code",
   "execution_count": 5,
   "metadata": {},
   "outputs": [],
   "source": [
    "embeddings = OpenAIEmbeddings()\n",
    "vectorstore = FAISS.from_documents(docarr, embeddings)"
   ]
  },
  {
   "cell_type": "code",
   "execution_count": 6,
   "metadata": {},
   "outputs": [],
   "source": [
    "retriever = vectorstore.as_retriever()"
   ]
  },
  {
   "cell_type": "code",
   "execution_count": 7,
   "metadata": {},
   "outputs": [
    {
     "data": {
      "text/plain": [
       "VectorStoreRetriever(tags=['FAISS', 'OpenAIEmbeddings'], vectorstore=<langchain_community.vectorstores.faiss.FAISS object at 0x10ad6e5d0>, search_kwargs={})"
      ]
     },
     "execution_count": 7,
     "metadata": {},
     "output_type": "execute_result"
    }
   ],
   "source": [
    "retriever"
   ]
  },
  {
   "cell_type": "code",
   "execution_count": 8,
   "metadata": {},
   "outputs": [],
   "source": [
    "ret  = retriever.invoke(\"what types of things did the author want to build?\")"
   ]
  },
  {
   "cell_type": "code",
   "execution_count": 9,
   "metadata": {},
   "outputs": [
    {
     "data": {
      "text/plain": [
       "[Document(metadata={'line_number': 3, 'source': 'https://dev228679.service-now.com'}, page_content='\\nshort_description:Connecting the SmartCool Refrigerator to Wi-Fi\\t\\t\\ntext:\\n\\n\\nFrom the Home screen, swipe left.Touch Settings.Touch Wi-Fi.Slide Wi-Fi to On. SmartCool will begin scanning for wireless networks.Touch your desired wireless network.Enter the password and touch CONNECT.\\n\\n\\n\\n\\xa0\\n\\xa0\\n'),\n",
       " Document(metadata={'line_number': 4, 'source': 'https://dev228679.service-now.com'}, page_content='\\nshort_description:Using the SmartView camera view to view inside\\t\\t\\tSmartCool refridgerator\\ntext:\\n\\n\\nTouch View Inside.You can label each food with expiration dates. Drag a label from the top and place it on an item.To label the food name and a reminder date, touch &#43;.Enter names using the keyboard.Set a reminder date using the dropdown menu.Touch SAVE.To access the Shopping List, touch the MENU button.Touch Go to Shopping List.\\n\\n\\n\\n\\xa0\\n\\xa0\\n'),\n",
       " Document(metadata={'line_number': 0, 'source': 'https://dev228679.service-now.com'}, page_content='\\nshort_description:Changing the freezer temparature on the SmartCool refridgerator\\ntext:\\n\\n\\nFrom the Home screen, swipe left.Touch Fridge Manager.Touch the freezer temperature.There are 5 preset temperatures. Select a desired temperature.To change the temperature manually, use the arrow buttons.Touch OK to finish.\\n\\n\\n\\n\\xa0\\n\\xa0\\n'),\n",
       " Document(metadata={'line_number': 2, 'source': 'https://dev228679.service-now.com'}, page_content='\\nshort_description:Changing the fridge temparature on the SmartCool\\t\\t\\trefridgerator\\ntext:\\n\\n\\nFrom the Home screen, swipe left.Touch Fridge Manager.Touch Fridge Temperature.There are 5 preset temperatures. Select a desired temperature.To change the temperature manually, use the arrow buttons.Touch OK to finish.\\n\\n\\n\\n\\xa0\\n\\xa0\\n')]"
      ]
     },
     "execution_count": 9,
     "metadata": {},
     "output_type": "execute_result"
    }
   ],
   "source": [
    "ret"
   ]
  },
  {
   "cell_type": "code",
   "execution_count": 10,
   "metadata": {},
   "outputs": [],
   "source": [
    "from langchain.chains import ConversationalRetrievalChain\n",
    "from langchain_openai import ChatOpenAI\n",
    "\n",
    "qa_chain = ConversationalRetrievalChain.from_llm(\n",
    "    ChatOpenAI(),\n",
    "    vectorstore.as_retriever(search_kwargs={'k': 3}),\n",
    "    return_source_documents=True\n",
    ")"
   ]
  },
  {
   "cell_type": "code",
   "execution_count": 12,
   "metadata": {},
   "outputs": [
    {
     "name": "stderr",
     "output_type": "stream",
     "text": [
      "/var/folders/bt/6jjk1bl542q287v3ww2df2n00000gn/T/ipykernel_24786/1641145281.py:4: LangChainDeprecationWarning: The method `Chain.__call__` was deprecated in langchain 0.1.0 and will be removed in 1.0. Use :meth:`~invoke` instead.\n",
      "  result = qa_chain({'question': query, 'chat_history': chat_history})\n"
     ]
    },
    {
     "name": "stdout",
     "output_type": "stream",
     "text": [
      "Answer: Subject: Guide on Using the SmartView Camera Feature in Your SmartCool Refrigerator\n",
      "\n",
      "Dear Valued Customer,\n",
      "\n",
      "I hope this email finds you well. We appreciate your interest in utilizing the SmartView camera feature in your SmartCool refrigerator. Here is a step-by-step guide to help you effectively use this feature:\n",
      "\n",
      "1. Touch View Inside on the SmartCool fridge display screen.\n",
      "2. You can label each food item with expiration dates by dragging a label from the top and placing it on the item.\n",
      "3. For food names and reminder dates, touch the \"+\" symbol.\n",
      "4. Enter the names using the keyboard, set a reminder date using the dropdown menu, and touch SAVE to confirm.\n",
      "5. To access the Shopping List, touch the MENU button on the display screen and then select Go to Shopping List.\n",
      "\n",
      "By following these steps, you will be able to make the most out of the SmartView camera feature in your SmartCool refrigerator.\n",
      "\n",
      "If you encounter any difficulties or have any further questions, please do not hesitate to reach out to us. Our customer service team is here to assist you with any queries you may have.\n",
      "\n",
      "Thank you for choosing our SmartCool refrigerator. We hope this guide enhances your experience with our product.\n",
      "\n",
      "Best regards,\n",
      "\n",
      "[Your Name]\n",
      "[Customer Service Representative]\n",
      "[Company Name]\n",
      "\n"
     ]
    }
   ],
   "source": [
    "chat_history = []\n",
    "\n",
    "query = \"You are a customer service agent. Draft an email to a customer on how to use the SmartView Camera.\"\n",
    "result = qa_chain({'question': query, 'chat_history': chat_history})\n",
    "print('Answer: ' + result['answer'] + '\\n')\n",
    "chat_history.append((query, result['answer']))"
   ]
  },
  {
   "cell_type": "code",
   "execution_count": null,
   "metadata": {},
   "outputs": [],
   "source": []
  }
 ],
 "metadata": {
  "kernelspec": {
   "display_name": "base",
   "language": "python",
   "name": "python3"
  },
  "language_info": {
   "codemirror_mode": {
    "name": "ipython",
    "version": 3
   },
   "file_extension": ".py",
   "mimetype": "text/x-python",
   "name": "python",
   "nbconvert_exporter": "python",
   "pygments_lexer": "ipython3",
   "version": "3.12.7"
  }
 },
 "nbformat": 4,
 "nbformat_minor": 2
}
